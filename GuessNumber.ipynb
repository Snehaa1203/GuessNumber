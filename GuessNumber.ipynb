{
 "cells": [
  {
   "cell_type": "markdown",
   "metadata": {},
   "source": [
    "# GUESS THE NUMBER"
   ]
  },
  {
   "cell_type": "code",
   "execution_count": null,
   "metadata": {},
   "outputs": [],
   "source": [
    "import random"
   ]
  },
  {
   "cell_type": "code",
   "execution_count": 16,
   "metadata": {},
   "outputs": [],
   "source": [
    "import random\n",
    "def guess(x):\n",
    "    number=random.randint(1,x)\n",
    "    guess=0\n",
    "    while guess!= number:\n",
    "        guess=int(input(\"ENTER YOUR GUESS BETWEEN 1 TO {}:\".format(x)))\n",
    "        if guess>number:\n",
    "            print(\"TOO HIGH!TRY AGAIN\")\n",
    "        elif guess<number:\n",
    "            print(\"TOO LOW!TRY AGAIN\")\n",
    "            \n",
    "    print(\"YAY!\")\n",
    "\n",
    "        \n",
    "        "
   ]
  },
  {
   "cell_type": "code",
   "execution_count": 17,
   "metadata": {},
   "outputs": [
    {
     "name": "stdout",
     "output_type": "stream",
     "text": [
      "ENTER YOUR GUESS BETWEEN 1 TO 6:4\n",
      "TOO HIGH!TRY AGAIN\n",
      "ENTER YOUR GUESS BETWEEN 1 TO 6:2\n",
      "YAY!\n"
     ]
    }
   ],
   "source": [
    "guess(6)"
   ]
  },
  {
   "cell_type": "code",
   "execution_count": 18,
   "metadata": {},
   "outputs": [
    {
     "name": "stdout",
     "output_type": "stream",
     "text": [
      "ENTER YOUR GUESS BETWEEN 1 TO 15:7\n",
      "TOO LOW!TRY AGAIN\n",
      "ENTER YOUR GUESS BETWEEN 1 TO 15:9\n",
      "TOO LOW!TRY AGAIN\n",
      "ENTER YOUR GUESS BETWEEN 1 TO 15:12\n",
      "TOO LOW!TRY AGAIN\n",
      "ENTER YOUR GUESS BETWEEN 1 TO 15:14\n",
      "TOO HIGH!TRY AGAIN\n",
      "ENTER YOUR GUESS BETWEEN 1 TO 15:13\n",
      "YAY!\n"
     ]
    }
   ],
   "source": [
    "guess(15)"
   ]
  },
  {
   "cell_type": "code",
   "execution_count": null,
   "metadata": {},
   "outputs": [],
   "source": []
  }
 ],
 "metadata": {
  "kernelspec": {
   "display_name": "Python 3",
   "language": "python",
   "name": "python3"
  },
  "language_info": {
   "codemirror_mode": {
    "name": "ipython",
    "version": 3
   },
   "file_extension": ".py",
   "mimetype": "text/x-python",
   "name": "python",
   "nbconvert_exporter": "python",
   "pygments_lexer": "ipython3",
   "version": "3.8.5"
  }
 },
 "nbformat": 4,
 "nbformat_minor": 4
}
